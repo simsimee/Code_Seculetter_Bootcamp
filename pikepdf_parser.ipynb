{
 "cells": [
  {
   "cell_type": "markdown",
   "id": "d41de325-6033-4038-88d9-bee151de9576",
   "metadata": {},
   "source": [
    "# 개발환경 (pikepdf)"
   ]
  },
  {
   "cell_type": "markdown",
   "id": "a2c0ebe8-537f-43c5-8152-a7e31be3b40c",
   "metadata": {},
   "source": [
    "## !pip3 install pikepdf==2.16.1"
   ]
  },
  {
   "cell_type": "markdown",
   "id": "459ec447-145d-4510-8364-182a2eb7a211",
   "metadata": {},
   "source": [
    "# pikepdf parser"
   ]
  },
  {
   "cell_type": "code",
   "execution_count": 111,
   "id": "c2cd21d0-cf1b-44c0-9393-767b98b167b0",
   "metadata": {},
   "outputs": [],
   "source": [
    "import json\n",
    "import os\n",
    "import glob\n",
    "from pikepdf import Object, Pdf"
   ]
  },
  {
   "cell_type": "code",
   "execution_count": 202,
   "id": "4247423a-bcf6-4c39-8439-26a37f4a7b78",
   "metadata": {},
   "outputs": [],
   "source": [
    "def parser(src_path:str, dst_path:str)->bool:\n",
    "    filenames = glob.glob(src_path)\n",
    "    for file in filenames:\n",
    "        result = {}\n",
    "        image_length = 0 \n",
    "        XObject_length = 0\n",
    "        Font_length = 0\n",
    "        Resources_length = 0\n",
    "        result['filename'] = file[14:]\n",
    "        try:\n",
    "            pdf = Pdf.open(file)\n",
    "            result['Size'] = pdf.trailer.Size\n",
    "            result['infolenth'] = len(pdf.docinfo)\n",
    "            result['PdfVersion'] = pdf.pdf_version\n",
    "            result['Pages'] = pdf.Root.Pages.Count\n",
    "            for j in range(0,len(pdf.docinfo)):\n",
    "                key = list(pdf.docinfo.keys())[j]\n",
    "                result[key[1:]] = str(pdf.docinfo[key])\n",
    "            \n",
    "            for x in range(0, len(pdf.pages)):\n",
    "                \n",
    "                try:\n",
    "                    for i in range(0, len(pdf.pages[x].Resources)):\n",
    "                        key = list(pdf.pages[x].Resources)[i]\n",
    "                        result['len_'+key[1:]]= len(list(pdf.pages[x].Resources[key]))\n",
    "                except:\n",
    "                    pass\n",
    "                \n",
    "                try:\n",
    "                    for y in range(0, len(pdf.pages[x].Contents.keys())):\n",
    "                        key = list(pdf.pages[x].Contents.keys())[y]\n",
    "                        result['Contents_'+key[1:]]= str(pdf.pages[y].Contents[key])\n",
    "                except:\n",
    "                    pass\n",
    "            dump_data = json.dumps(result).encode()\n",
    "\n",
    "            with open(dst_path, 'wb') as f:\n",
    "                f.write(dump_data)\n",
    "\n",
    "        except Exception as e:\n",
    "            print(f'{str(e)}')\n",
    "            return False\n",
    "\n",
    "    if not os.path.isfile(dst_path):\n",
    "        return False\n",
    "\n",
    "    return True"
   ]
  },
  {
   "cell_type": "code",
   "execution_count": 203,
   "id": "2e3c1878-ffd3-45d6-ab75-69ad09e5cc23",
   "metadata": {},
   "outputs": [],
   "source": [
    "src_path = '/data/samples/00a9a1fd1a981859605c159ae848086edcc663875b8295818c10045fd616fc90'\n",
    "dst_path = '/data/outputs/00a9a1fd1a981859605c159ae848086edcc663875b8295818c10045fd616fc90.pikepdf.parser'"
   ]
  },
  {
   "cell_type": "code",
   "execution_count": 204,
   "id": "eaa971ec-3ef4-40d2-a7c9-5a3f97ce5fad",
   "metadata": {},
   "outputs": [
    {
     "data": {
      "text/plain": [
       "True"
      ]
     },
     "execution_count": 204,
     "metadata": {},
     "output_type": "execute_result"
    }
   ],
   "source": [
    "os.path.isfile(src_path)"
   ]
  },
  {
   "cell_type": "code",
   "execution_count": 205,
   "id": "9e5ec703-7d4e-46ea-a05e-89713614e124",
   "metadata": {},
   "outputs": [
    {
     "data": {
      "text/plain": [
       "False"
      ]
     },
     "execution_count": 205,
     "metadata": {},
     "output_type": "execute_result"
    }
   ],
   "source": [
    "os.path.isfile(dst_path)"
   ]
  },
  {
   "cell_type": "code",
   "execution_count": 206,
   "id": "62bd96fb-58b0-453a-8efa-f3d7f187a541",
   "metadata": {},
   "outputs": [
    {
     "data": {
      "text/plain": [
       "True"
      ]
     },
     "execution_count": 206,
     "metadata": {},
     "output_type": "execute_result"
    }
   ],
   "source": [
    "parser(src_path,dst_path)"
   ]
  },
  {
   "cell_type": "code",
   "execution_count": 207,
   "id": "68fb2148-6c09-4a13-b525-6f2d03f83e9e",
   "metadata": {},
   "outputs": [
    {
     "data": {
      "text/plain": [
       "True"
      ]
     },
     "execution_count": 207,
     "metadata": {},
     "output_type": "execute_result"
    }
   ],
   "source": [
    "os.path.isfile(dst_path)"
   ]
  },
  {
   "cell_type": "code",
   "execution_count": 208,
   "id": "479d38d9-c813-499c-b1d5-8c5baad711bd",
   "metadata": {},
   "outputs": [
    {
     "name": "stdout",
     "output_type": "stream",
     "text": [
      "{\"filename\": \"00a9a1fd1a981859605c159ae848086edcc663875b8295818c10045fd616fc90\", \"Size\": 275, \"infolenth\": 6, \"PdfVersion\": \"1.6\", \"Pages\": 13, \"Author\": \"Administrator\", \"Title\": \"\", \"ModDate\": \"D:20170910122744+09'00'\", \"CreationDate\": \"D:20170910122711+09'00'\", \"Creator\": \"PScript5.dll Version 5.2.2\", \"Producer\": \"Acrobat Distiller 10.1.16 (Windows)\", \"len_ExtGState\": 1, \"len_Font\": 5, \"len_ProcSet\": 3, \"len_ColorSpace\": 1, \"len_XObject\": 6}"
     ]
    }
   ],
   "source": [
    "!cat $dst_path"
   ]
  },
  {
   "cell_type": "markdown",
   "id": "defa8c30-43ab-4db8-bba4-8dd6c71e51c2",
   "metadata": {},
   "source": [
    "# pikepdf 전체 샘플 parsing"
   ]
  },
  {
   "cell_type": "code",
   "execution_count": null,
   "id": "32365fd0-49dc-40a4-a434-2f28038d729d",
   "metadata": {},
   "outputs": [],
   "source": [
    "from pathlib import Path\n",
    "\n",
    "SAMPLE_DIR = '/data/samples'\n",
    "OUT_DIR = '/data/outputs'\n",
    "\n",
    "paths = Path(SAMPLE_DIR).glob('*')\n",
    "\n",
    "for path in paths:\n",
    "    src_path = str(path)\n",
    "    dst_path = os.path.join(OUT_DIR, path.name + '.pikepdf.parser')\n",
    "    \n",
    "    print(f'{src_path} -> {dst_path}')\n",
    "    parser(src_path, dst_path)"
   ]
  },
  {
   "cell_type": "code",
   "execution_count": 214,
   "id": "ce1f4f67-d9dd-4b90-950f-9444f1e53f20",
   "metadata": {},
   "outputs": [
    {
     "name": "stdout",
     "output_type": "stream",
     "text": [
      "10916\n",
      "10628\n"
     ]
    }
   ],
   "source": [
    "OUTPUT_DIR = '/data/outputs'\n",
    "print(len(list(Path('/data/samples').glob('*'))))\n",
    "print(len(list(Path(OUTPUT_DIR).glob('*.pikepdf.parser'))))"
   ]
  },
  {
   "cell_type": "code",
   "execution_count": 219,
   "id": "55b0ce7c-90e1-49e9-9ff8-a04636499af1",
   "metadata": {},
   "outputs": [
    {
     "name": "stdout",
     "output_type": "stream",
     "text": [
      "35986\n"
     ]
    }
   ],
   "source": [
    "print(len(list(Path(OUTPUT_DIR).glob('*'))))"
   ]
  },
  {
   "cell_type": "markdown",
   "id": "d7d0356f-0420-48e4-a77a-21a8c0f8e286",
   "metadata": {},
   "source": [
    "# 다시 진행해야할 때 결과물 삭제하기. 조심해서 실행할 것...!!!!!!!!"
   ]
  },
  {
   "cell_type": "code",
   "execution_count": null,
   "id": "8b4aab23-fea2-4f40-b7ea-e212e36ce586",
   "metadata": {},
   "outputs": [],
   "source": [
    "[os.remove(f) for f in glob.glob(\"/data/outputs/*.pikepdf.parser\")]"
   ]
  }
 ],
 "metadata": {
  "kernelspec": {
   "display_name": "Python 3",
   "language": "python",
   "name": "python3"
  },
  "language_info": {
   "codemirror_mode": {
    "name": "ipython",
    "version": 3
   },
   "file_extension": ".py",
   "mimetype": "text/x-python",
   "name": "python",
   "nbconvert_exporter": "python",
   "pygments_lexer": "ipython3",
   "version": "3.8.10"
  }
 },
 "nbformat": 4,
 "nbformat_minor": 5
}
